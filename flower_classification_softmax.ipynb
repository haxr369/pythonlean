{
 "cells": [
  {
   "cell_type": "code",
   "execution_count": null,
   "metadata": {},
   "outputs": [],
   "source": [
    "### Softmax Classification으로 벚꽃 분류\n",
    "import sklearn\n",
    "from sklearn.datasets import load_iris   #사이킷런 데이터셋\n",
    "import tensorflow as tf\n",
    "import numpy as np\n",
    "from sklearn.model_selection import train_test_split  #학습, 예측 데이터로 데이터들을 분리하기\n",
    "\n",
    "iris = load_iris()\n",
    "x_data = iris.data #iris 데이터 셋을 ndarray로 바꿔줌\n",
    "y_data = iris.target#iris 데이터에서 결정 값 데이터를 ndarray로 바꿔준다.\n",
    "\n",
    "#print(x_data.shape, y_data.shape)\n",
    "\n",
    "'''\n",
    "(150, 4) (150,)\n",
    "'''\n",
    "xtrain,xtest,ytrain,ytest = train_test_split(x_data ,y_data ,test_size=0.2)  #8대2 크기로 데이터를 분리한다.\n",
    "\n",
    "nb_classes = 3  # 0 ~ 6\n",
    "\n",
    "# Convert y_data to one_hot\n",
    "y_one_hot = tf.keras.utils.to_categorical(ytrain, nb_classes)\n",
    "print(\"one_hot:\", y_one_hot)\n",
    "\n",
    "tf.model = tf.keras.Sequential()\n",
    "tf.model.add(tf.keras.layers.Dense(units=nb_classes, input_dim=4, activation='softmax'))\n",
    "tf.model.compile(loss='categorical_crossentropy', optimizer=tf.keras.optimizers.SGD(lr=0.1), metrics=['accuracy'])\n",
    "tf.model.summary()\n",
    "\n",
    "history = tf.model.fit(xtrain, y_one_hot, epochs=1000) #xtrain과 ytrain으로 모델을 만든다.\n",
    "\n",
    "# Single data test\n",
    "\"\"\"\n",
    "test_data = np.array( xtest) # expected prediction == 3 (feathers)\n",
    "print(tf.model.predict(test_data), tf.model.predict_classes(test_data))\n",
    "\n",
    "\"\"\"\n",
    "\n",
    "# Full x_data test\n",
    "pred = tf.model.predict_classes(xtest)  #모델에 xtest를 돌려보기...\n",
    "from sklearn.metrics import accuracy_score  #정확도 측정 함수\n",
    "print(\"\\n 벚꽃분류 예측정확도 : {0:.4f}\\n\".format(accuracy_score(ytest,pred)))\n",
    "\n",
    "\n",
    "\n",
    "for p, y in zip(pred, ytest.flatten()):\n",
    "    print(\"[{}] Prediction: {} True Y: {}\".format(p == int(y), p, int(y)))\n",
    "\n",
    "#좀더 정확도를 올릴 방법이 없을까? 정확도만 올려도 좋은건가?\n"
   ]
  }
 ],
 "metadata": {
  "kernelspec": {
   "display_name": "Python 3",
   "language": "python",
   "name": "python3"
  },
  "language_info": {
   "codemirror_mode": {
    "name": "ipython",
    "version": 3
   },
   "file_extension": ".py",
   "mimetype": "text/x-python",
   "name": "python",
   "nbconvert_exporter": "python",
   "pygments_lexer": "ipython3",
   "version": "3.6.12"
  }
 },
 "nbformat": 4,
 "nbformat_minor": 4
}
