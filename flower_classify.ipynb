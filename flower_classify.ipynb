{
 "cells": [
  {
   "cell_type": "code",
   "execution_count": null,
   "metadata": {},
   "outputs": [],
   "source": [
    "import sklearn\n",
    "from sklearn.datasets import load_iris   #사이킷런 데이터셋\n",
    "import tensorflow as tf\n",
    "import numpy as np\n",
    "\n",
    "iris = load_iris()\n",
    "iris_data = iris.data\n",
    "\n",
    "\n",
    "\n",
    "label = iris.target\n",
    "y_data=[]\n",
    "for i in range(len(label)):\n",
    "    if label[i] == 2:\n",
    "        label[i]=1\n",
    "        \n",
    "for i in label:\n",
    "    y_data.append([i])\n",
    "y_data = np.array(y_data)    \n",
    "\n",
    "\n",
    "x_data = iris_data\n",
    "\n",
    "print(x_data,x_data.shape)\n",
    "print(y_data)\n",
    "\n",
    "tf.model = tf.keras.Sequential()\n",
    "\n",
    "tf.model.add(tf.keras.layers.Dense(units=1, input_dim=4))  \n",
    "tf.model.add(tf.keras.layers.Activation('sigmoid'))\n",
    "\n",
    "''' \n",
    "better result with loss function == 'binary_crossentropy', try 'mse' for yourself\n",
    "adding accuracy metric to get accuracy report during training\n",
    "'''\n",
    "tf.model.compile(loss='binary_crossentropy', optimizer=tf.keras.optimizers.SGD(lr=0.01), metrics=['accuracy'])\n",
    "tf.model.summary()\n",
    "\n",
    "history = tf.model.fit(x_data, y_data, epochs=5000)\n",
    "\n",
    "# Accuracy report\n",
    "print(\"Accuracy: \", history.history['accuracy'][-1])\n",
    "\n",
    "y_predict = tf.model.predict_classes(np.array([[5.1, 3.5 ,1.4, 0.2]]))\n",
    "print(y_predict)"
   ]
  }
 ],
 "metadata": {
  "kernelspec": {
   "display_name": "Python 3",
   "language": "python",
   "name": "python3"
  },
  "language_info": {
   "codemirror_mode": {
    "name": "ipython",
    "version": 3
   },
   "file_extension": ".py",
   "mimetype": "text/x-python",
   "name": "python",
   "nbconvert_exporter": "python",
   "pygments_lexer": "ipython3",
   "version": "3.6.12"
  }
 },
 "nbformat": 4,
 "nbformat_minor": 4
}
